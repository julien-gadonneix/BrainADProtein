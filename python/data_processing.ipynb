{
 "cells": [
  {
   "cell_type": "code",
   "execution_count": 29,
   "metadata": {},
   "outputs": [],
   "source": [
    "import pandas as pd\n",
    "import numpy as np"
   ]
  },
  {
   "cell_type": "code",
   "execution_count": 30,
   "metadata": {},
   "outputs": [],
   "source": [
    "def transform_data(region, advancement=None, sex=None, age=None):\n",
    "    loc_prot = '../../complete_data/' + region + '/' + region + '_Proteins.txt'\n",
    "    loc_patient = '../../complete_data/PRIDEdataUploadInfo_231003.xlsx'\n",
    "    df_prot = pd.read_csv(loc_prot, delimiter='\\t')\n",
    "    df_patient = pd.read_excel(loc_patient)\n",
    "\n",
    "    df_patient = df_patient[df_patient[\"Brain region\"] == region]\n",
    "\n",
    "\n",
    "    # the following part is now implemented on js\n",
    "            # # duplication of the patients between two advancements\n",
    "            # advancements = [\"C\", \"I\", \"II\", \"III\", \"IV\", \"V\", \"VI\"]\n",
    "            # for i in range(len(df_patient)):\n",
    "            #     tmp = df_patient.iloc[i][\"Braak stage\"]\n",
    "            #     if not tmp in advancements:\n",
    "            #         row = pd.DataFrame([df_patient.iloc[i]])\n",
    "            #         stages = tmp.split('-')\n",
    "            #         df_patient.iloc[i, 4] = stages[0]\n",
    "            #         row[\"Braak stage\"] = stages[1]\n",
    "            #         df_patient = pd.concat([df_patient, row], ignore_index=True)\n",
    "\n",
    "            # if not advancement is None:\n",
    "            #     df_patient = df_patient[df_patient[\"Braak stage\"] == advancement]\n",
    "            \n",
    "            # if not sex is None:\n",
    "            #     df_patient = df_patient[df_patient[\"Sex\"] == sex]\n",
    "            \n",
    "            # if not age is None:\n",
    "            #     df_patient[\"Age\"] = pd.to_numeric(df_patient[\"Age\"])\n",
    "            #     df_patient = df_patient[df_patient[\"Age\"] > age[0]]\n",
    "            #     df_patient = df_patient[df_patient[\"Age\"] < age[1]]\n",
    "\n",
    "\n",
    "    # transforming the shape of the dataframe\n",
    "    patients = df_patient[\"Sample code in PD search results\"].to_list()\n",
    "    patients_area = patients.copy()\n",
    "    for i in range(len(patients_area)):\n",
    "        patients_area[i] = \"Area \" + patients_area[i] + \" Sample\"\n",
    "    df = df_prot[patients_area]\n",
    "    df = df.T\n",
    "\n",
    "    # renaming of the columns and indexes\n",
    "    prots = df_prot[\"Description\"].to_list()\n",
    "    prots = [prot.split('OS=', 1)[0] for prot in prots]\n",
    "    old_col_names = df.columns.to_list()\n",
    "    dict_col = dict(zip(old_col_names, prots))\n",
    "    dict_idx = dict(zip(patients_area, patients))\n",
    "    df.rename(index=dict_idx, columns=dict_col, inplace=True)\n",
    "\n",
    "    # adding the ages, sexes and advancements\n",
    "    df[\"Age\"] = df_patient[df_patient[\"Sample code in PD search results\"].isin(patients)][\"Age\"].to_list()\n",
    "    df[\"Sex\"] = df_patient[df_patient[\"Sample code in PD search results\"].isin(patients)][\"Sex\"].to_list()\n",
    "    df[\"Braak stage\"] = df_patient[df_patient[\"Sample code in PD search results\"].isin(patients)][\"Braak stage\"].to_list()\n",
    "\n",
    "    # writing to csv\n",
    "    filepath = '../data/ProteinsPatients' + region + '.csv'\n",
    "    df.to_csv(filepath)"
   ]
  },
  {
   "cell_type": "code",
   "execution_count": 31,
   "metadata": {},
   "outputs": [],
   "source": [
    "transform_data(\"FC\")\n",
    "transform_data(\"TC\")\n",
    "transform_data(\"EC\")\n",
    "transform_data(\"PHC\")\n"
   ]
  },
  {
   "cell_type": "code",
   "execution_count": null,
   "metadata": {},
   "outputs": [],
   "source": []
  }
 ],
 "metadata": {
  "kernelspec": {
   "display_name": "Python 3",
   "language": "python",
   "name": "python3"
  },
  "language_info": {
   "codemirror_mode": {
    "name": "ipython",
    "version": 3
   },
   "file_extension": ".py",
   "mimetype": "text/x-python",
   "name": "python",
   "nbconvert_exporter": "python",
   "pygments_lexer": "ipython3",
   "version": "3.9.1"
  }
 },
 "nbformat": 4,
 "nbformat_minor": 2
}
